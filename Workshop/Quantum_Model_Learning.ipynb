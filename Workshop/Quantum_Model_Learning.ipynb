{
 "cells": [
  {
   "cell_type": "markdown",
   "source": [
    "# Teaching Quantum Models with Pennylane\n",
    "\n",
    "The aim of this tutorial is to introduce the reader to the concept of quantum (machine learning) models learning. We will do so using the [Xanadu's](https://www.xanadu.ai/) QML library called [PennyLane](https://pennylane.ai/). By the end of the tutorial we will know how to design a variational quantum circuit (VQC) and how to teach it to perform  binary classification.\n"
   ],
   "metadata": {
    "collapsed": false
   }
  },
  {
   "cell_type": "markdown",
   "source": [
    "## Resources\n",
    "\n",
    "Obviously, our main resource will be the [PennyLane documentaiton](https://docs.pennylane.ai/en/stable/)."
   ],
   "metadata": {
    "collapsed": false
   }
  },
  {
   "cell_type": "markdown",
   "source": [
    "## Requirements\n",
    "\n",
    "Below is the list of the most important libraries (and their versions) used in this tutorial.\n",
    "`python==3.11`\n",
    "`PennyLane==0.29.1`\n",
    "`scikit-learn==1.2.2`\n",
    "`matplotlib==3.7.1`\n",
    "Aside from the library requirements, throughout the tutorial we'll assume that the reader have some **basic knowledge of quantum computing** (so I won't be defining terms like e.g. **qubit** or **Dirac's notation**). For the tutorial purposes, we will also assume that the reader has seen the following PennyLane tutorials\n",
    "- [Basic tutorial: qubit rotation](https://pennylane.ai/qml/demos/tutorial_qubit_rotation.html)\n",
    "- [Quantum embedding](https://pennylane.ai/qml/glossary/quantum_embedding.html)\n",
    "- [https://pennylane.ai/qml/demos/tutorial_variational_classifier.html](https://pennylane.ai/qml/demos/tutorial_variational_classifier.html)"
   ],
   "metadata": {
    "collapsed": false
   }
  },
  {
   "cell_type": "markdown",
   "source": [
    "## Task description\n",
    "\n",
    "Our task is to prepare a (quantum) binary classifier that will be able to properly classify the `moons` dataset. Let's see what we're dealing with."
   ],
   "metadata": {
    "collapsed": false
   }
  },
  {
   "cell_type": "code",
   "execution_count": 3,
   "outputs": [],
   "source": [
    "from typing import List, Sequence\n",
    "from sklearn.datasets import make_moons\n",
    "from pennylane import numpy as np\n",
    "from numpy.random import RandomState"
   ],
   "metadata": {
    "collapsed": false,
    "ExecuteTime": {
     "start_time": "2023-04-21T18:28:47.358326Z",
     "end_time": "2023-04-21T18:28:48.821565Z"
    }
   }
  },
  {
   "cell_type": "markdown",
   "source": [
    "First, we prepare the data. The `make_moons` method of `sklearn.datasets` requires a number of arguments from us (see [documentation](https://scikit-learn.org/stable/modules/generated/sklearn.datasets.make_moons.html)). Naturally we want to specify the number of samples we want our dataset to have."
   ],
   "metadata": {
    "collapsed": false
   }
  },
  {
   "cell_type": "code",
   "execution_count": 4,
   "outputs": [],
   "source": [
    "n_samples: int = 100"
   ],
   "metadata": {
    "collapsed": false,
    "ExecuteTime": {
     "start_time": "2023-04-21T18:28:48.395437Z",
     "end_time": "2023-04-21T18:28:48.887716Z"
    }
   }
  },
  {
   "cell_type": "markdown",
   "source": [
    "If you're confused by the above notation, please see [how python supports type hinting](https://docs.python.org/3/library/typing.html). For our needs, all you need to know is that the structure `<variable>: <class>` hints that the `<variable>` should be of class `<class>`."
   ],
   "metadata": {
    "collapsed": false
   }
  },
  {
   "cell_type": "code",
   "execution_count": 5,
   "outputs": [],
   "source": [
    "random_state: RandomState = RandomState(42)  # Ensures that the generated datasets are the same everytime.\n",
    "noise: float = 0.1  # Introduces the noise to generated circuits.\n",
    "\n",
    "X: np.ndarray  # 2d of floats\n",
    "y: np.ndarray  # of ints\n",
    "\n",
    "X, y = make_moons(\n",
    "    n_samples=n_samples,\n",
    "    shuffle=True,\n",
    "    noise=noise,\n",
    "    random_state=random_state\n",
    ")"
   ],
   "metadata": {
    "collapsed": false,
    "ExecuteTime": {
     "start_time": "2023-04-21T18:28:48.410051Z",
     "end_time": "2023-04-21T18:28:48.899132Z"
    }
   }
  },
  {
   "cell_type": "markdown",
   "source": [
    "We can now see how our dataset looks like. We will do so using `matplotlib`."
   ],
   "metadata": {
    "collapsed": false
   }
  },
  {
   "cell_type": "code",
   "execution_count": 6,
   "outputs": [],
   "source": [
    "import matplotlib.pyplot as plt"
   ],
   "metadata": {
    "collapsed": false,
    "ExecuteTime": {
     "start_time": "2023-04-21T18:28:48.426986Z",
     "end_time": "2023-04-21T18:28:48.899541Z"
    }
   }
  },
  {
   "cell_type": "markdown",
   "source": [
    "Now we visualize the dataset."
   ],
   "metadata": {
    "collapsed": false
   }
  },
  {
   "cell_type": "code",
   "execution_count": 7,
   "outputs": [
    {
     "data": {
      "text/plain": "<Figure size 640x480 with 1 Axes>",
      "image/png": "[encoded data removed]"
     },
     "metadata": {},
     "output_type": "display_data"
    }
   ],
   "source": [
    "# Separate the points.\n",
    "first_plot_points: List[Sequence[float]] = [X[i] for i in range(len(X)) if y[i] == 0]\n",
    "second_plot_points: List[Sequence[float]] = [X[i] for i in range(len(X)) if y[i] == 1]\n",
    "\n",
    "# Separate the dimensions.\n",
    "first_plot_x: List[float] = [pt[0] for pt in first_plot_points]\n",
    "first_plot_y: List[float] = [pt[1] for pt in first_plot_points]\n",
    "\n",
    "second_plot_x: List[float] = [pt[0] for pt in second_plot_points]\n",
    "second_plot_y: List[float] = [pt[1] for pt in second_plot_points]\n",
    "\n",
    "# Plot the results.\n",
    "colors: List[str] = [\"red\", \"blue\"]  # To distinguish the classes.\n",
    "\n",
    "plt.plot(first_plot_x, first_plot_y, color=colors[0], linewidth=0, marker=\"o\")\n",
    "plt.plot(second_plot_x, second_plot_y, color=colors[1], linewidth=0, marker=\"o\")\n",
    "plt.show()"
   ],
   "metadata": {
    "collapsed": false,
    "ExecuteTime": {
     "start_time": "2023-04-21T18:28:48.477912Z",
     "end_time": "2023-04-21T18:28:49.025325Z"
    }
   }
  },
  {
   "cell_type": "markdown",
   "source": [
    "I think we can agree that this dataset seems simple. It is, however, **not linearly-separable**, so it's not that trivial. This will make the classification a little bit more challenging. We're now ready to start preparing the classifier."
   ],
   "metadata": {
    "collapsed": false
   }
  },
  {
   "cell_type": "markdown",
   "source": [
    "## Quantum Neural Networks (or VQCs)\n",
    "\n",
    "A Quantum Neural Network (QNN) is a combination of two concepts -- quantum computing (QC) and artificial neural networks (ANN). Lately, the name QNN has been used to describe VQC (see [here](https://pennylane.ai/qml/glossary/quantum_neural_network.html#id1)).\n",
    "\n",
    "The VQC consists of several building blocks -- __wires__, __gates__ and __measurements__. An example of quantum circuit is presented on the figure below (source [PennyLane](https://pennylane.ai/qml/_images/sphx_glr_tutorial_backprop_001.png)).\n",
    "\n",
    "![VQC](https://pennylane.ai/qml/_images/sphx_glr_tutorial_backprop_001.png)\n",
    "\n",
    "The **wires** are usually depicted by the horizontal lines. On the figure, they are numbered from 0 to 2. Each **wire** corresponds to a **qubit** (at least in the model of QC we're considering). Every **gate** (essentially every other object on the figure) that is placed on the **wire** (wires) describes an operation applied to it (them). The **measurement** is usually represented by a symbol similar to the one at the end of wire 0 or 2. A lot of information about the **measurements** (especially their implementation aspects) can be found in the [documentation](https://docs.pennylane.ai/en/stable/introduction/measurements.html)."
   ],
   "metadata": {
    "collapsed": false
   }
  },
  {
   "cell_type": "markdown",
   "source": [
    "## Implementing a QNN\n",
    "\n",
    "We can distinguish 3 parts of all quantum computations -- **state preparation**, **evolution** and **measurement**. In the following sections of this tutorial, we will address each of them and implement the respective parts of our (Q)ML model and ML workflow."
   ],
   "metadata": {
    "collapsed": false
   }
  },
  {
   "cell_type": "markdown",
   "source": [
    "### State preparation\n",
    "\n",
    "In PennyLane, the default initial state is $\\left| 0000 \\right\\rangle$. What we'd like to have, is a state that reflects out **classical** input or our feature vector. This can be done by **quantum embedding**.\n",
    "\n",
    "There are many ways to embed **classical** data into a quantum state. Some of them should be familiar to the reader after [one of the required tutorials](https://pennylane.ai/qml/glossary/quantum_embedding.html). Here, however, we will use the so-called [angle embedding](https://docs.pennylane.ai/en/stable/code/api/pennylane.AngleEmbedding.html?highlight=AngleEmbedding), which in our opinion is easier to use and understand, especially after reading [the other required tutorial](https://pennylane.ai/qml/demos/tutorial_qubit_rotation.html). The idea here will be to translate the **features** into the **qubits rotations**."
   ],
   "metadata": {
    "collapsed": false
   }
  },
  {
   "cell_type": "markdown",
   "source": [
    "First, we have to acknowledge that in both our and the general case, the **features** will hardly correspond to the rotations directly. We've got to **normalize** them first. We want the minimal value of each column (of `x`) to be transformed into 0 and maximal value to 1."
   ],
   "metadata": {
    "collapsed": false
   }
  },
  {
   "cell_type": "code",
   "execution_count": 8,
   "outputs": [],
   "source": [
    "def normalize_column(ar: np.ndarray, col_idx: int) -> None:\n",
    "    \"\"\"\n",
    "    Normalizes (to [0, 1]) a column of a given array.\n",
    "\n",
    "    :param ar:\n",
    "        Array from which a column will be normalized.\n",
    "    :param col_idx:\n",
    "        Index of a column to normalize.\n",
    "    \"\"\"\n",
    "    col_vals: np.ndarray = ar[:, col_idx]\n",
    "    col_vals = col_vals - min(list(col_vals))\n",
    "    col_vals = col_vals / max(list(col_vals))\n",
    "\n",
    "    ar[:, col_idx] = col_vals\n"
   ],
   "metadata": {
    "collapsed": false,
    "ExecuteTime": {
     "start_time": "2023-04-21T18:28:48.920478Z",
     "end_time": "2023-04-21T18:28:49.030662Z"
    }
   }
  },
  {
   "cell_type": "markdown",
   "source": [
    "We can now check if it works as intended."
   ],
   "metadata": {
    "collapsed": false
   }
  },
  {
   "cell_type": "code",
   "execution_count": 9,
   "outputs": [
    {
     "name": "stdout",
     "output_type": "stream",
     "text": [
      "First column range: [0.0, 1.0]\n",
      "Second column range: [0.0, 1.0]\n"
     ]
    }
   ],
   "source": [
    "X_normalized: np.ndarray = X.copy()\n",
    "\n",
    "normalize_column(X_normalized, 0)\n",
    "normalize_column(X_normalized, 1)\n",
    "\n",
    "print(f\"First column range: [{min(X_normalized[:, 0])}, {max(X_normalized[:, 0])}]\")\n",
    "print(f\"Second column range: [{min(X_normalized[:, 1])}, {max(X_normalized[:, 1])}]\")"
   ],
   "metadata": {
    "collapsed": false,
    "ExecuteTime": {
     "start_time": "2023-04-21T18:28:48.929898Z",
     "end_time": "2023-04-21T18:28:49.031519Z"
    }
   }
  },
  {
   "cell_type": "markdown",
   "source": [
    "If the range that we've obtained is [0, 1], then we're ready to define our state preparation method. We need to import the `AngleEmbedding` from PennyLane."
   ],
   "metadata": {
    "collapsed": false
   }
  },
  {
   "cell_type": "code",
   "execution_count": 10,
   "outputs": [],
   "source": [
    "from pennylane.templates.embeddings import AngleEmbedding"
   ],
   "metadata": {
    "collapsed": false,
    "ExecuteTime": {
     "start_time": "2023-04-21T18:28:48.969569Z",
     "end_time": "2023-04-21T18:28:49.063755Z"
    }
   }
  },
  {
   "cell_type": "markdown",
   "source": [
    "Notice that the embedding is contained withing the `templates` module. That only means that instead of implementing the embedding on out own, we can just use the methods prepared by PennyLane developers. That is true also for different kinds of embeddings."
   ],
   "metadata": {
    "collapsed": false
   }
  },
  {
   "cell_type": "code",
   "execution_count": 11,
   "outputs": [],
   "source": [
    "from typing import Union\n",
    "\n",
    "def state_preparation(x: np.ndarray, wires: Union[int, Sequence[int]]) -> None:\n",
    "    \"\"\"\n",
    "    Prepares the initial state, based on the classical input.\n",
    "\n",
    "    :param x:\n",
    "        Features to be encoded into rotation angles.\n",
    "    :param wires:\n",
    "        Wires on which the rotations will be applied. First `n` wires will be considered, if an `int` is given.\n",
    "    \"\"\"\n",
    "    # Note that formally the normalization could also happen here!\n",
    "    AngleEmbedding(\n",
    "        features=x * np.pi,\n",
    "        wires=wires,\n",
    "        rotation=\"X\"\n",
    "    )"
   ],
   "metadata": {
    "collapsed": false,
    "ExecuteTime": {
     "start_time": "2023-04-21T18:28:49.008890Z",
     "end_time": "2023-04-21T18:28:49.326604Z"
    }
   }
  },
  {
   "cell_type": "markdown",
   "source": [
    "Although the documentation states that the rotation gates (in PennyLane) take **angles** as their parameters (see e.g. [here](https://docs.pennylane.ai/en/stable/code/api/pennylane.RZ.html?highlight=RZ#pennylane.RZ)), **what we actually want are radians**. That's why we multiply the `x` by `np.pi`. This way the maximal and minimal values of the feature vector will be transformed to the opposite ends of the **Bloch sphere**.\n",
    "\n",
    "The `rotation` simply specifies the axis over which the rotation will take place. For additional information consult the [documentation](https://docs.pennylane.ai/en/stable/code/api/pennylane.AngleEmbedding.html?highlight=AngleEmbedding).\n",
    "\n",
    "And that's it. We actually cannot test our method right now, but we will use it in due time."
   ],
   "metadata": {
    "collapsed": false
   }
  },
  {
   "cell_type": "markdown",
   "source": [
    "### Evolution\n",
    "\n",
    "Everything that happens inbetween the state preparation and the measurement can be formally considered the evolution. Our goal in this part is to come up with an idea on how to transform our initial state into a different state, which after the measurement will yield satisfactory results. Luckily, we've got Machine Learning on our disposal. In this section, we will discuss how to prepare a part of the VQC that we will later teach."
   ],
   "metadata": {
    "collapsed": false
   }
  },
  {
   "cell_type": "markdown",
   "source": [
    "We begin with an (expected) observation that, similarly to their classical counterparts, QNN can have different kinds layers. Many of those have been proposed, also for QNN. We will focus on only one of them -- [StrongEntanglingLayers](https://docs.pennylane.ai/en/stable/code/api/pennylane.StronglyEntanglingLayers.html?highlight=StronglyEntanglingLayers) -- but the reader is encouraged to also try some others. We strongly recommend checking the [documentation](https://docs.pennylane.ai/en/stable/code/api/pennylane.StronglyEntanglingLayers.html?highlight=StronglyEntanglingLayers) on `StronglyEntanglingLayer` as it covers both its' technical aspects and its' implementation.\n",
    "\n",
    "For the purpose of this tutorial, we only need to know two things about the usage of `StronglyEntanglingLayer`:\n",
    "- it's implemented in PennyLane as a ready-to-use template in `pennylane.templates.layers`,\n",
    "- it requires a `(L, M, 3)`-sized tensor of **weights**, where `L` denotes the number of layers and `M` the number of wires.\n",
    "\n",
    "The **weights** mentioned above, is exactly what we will try to learn later, during the training phase."
   ],
   "metadata": {
    "collapsed": false
   }
  },
  {
   "cell_type": "markdown",
   "source": [
    "Given the templates, our evolution method has, similarly to state preparation, a very simple form."
   ],
   "metadata": {
    "collapsed": false
   }
  },
  {
   "cell_type": "code",
   "execution_count": 12,
   "outputs": [],
   "source": [
    "from pennylane.templates.layers import StronglyEntanglingLayers"
   ],
   "metadata": {
    "collapsed": false,
    "ExecuteTime": {
     "start_time": "2023-04-21T18:28:49.051249Z",
     "end_time": "2023-04-21T18:28:49.382623Z"
    }
   }
  },
  {
   "cell_type": "code",
   "execution_count": 13,
   "outputs": [],
   "source": [
    "def evolution(weights: np.ndarray, wires: Union[int, Sequence[int]]) -> None:\n",
    "    \"\"\"\n",
    "    Adds the \"evolution part\" to the circuit.\n",
    "\n",
    "    :param weights:\n",
    "        Weights to be applied to the StronglyEntanglingLayer(s). Do note that their size determines the number of layers applied.\n",
    "    :param wires:\n",
    "        Wires on which the rotations will be applied. First `n` wires will be considered, if an `int` is given.\n",
    "    \"\"\"\n",
    "    StronglyEntanglingLayers(\n",
    "        weights=weights,\n",
    "        wires=wires\n",
    "    )"
   ],
   "metadata": {
    "collapsed": false,
    "ExecuteTime": {
     "start_time": "2023-04-21T18:28:49.099114Z",
     "end_time": "2023-04-21T18:28:49.412283Z"
    }
   }
  },
  {
   "cell_type": "markdown",
   "source": [
    "And there's that. We won't be able to test this method either -- we have to wait until the circuit is complete."
   ],
   "metadata": {
    "collapsed": false
   }
  },
  {
   "cell_type": "markdown",
   "source": [
    "### Measurement\n",
    "\n",
    "Measurement is the final part of the quantum computation. The theory of quantum measurement is a vast field itself, drastically beyond the scope of this tutorial, so we will only discuss its very limited slice. What we will be using in our circuit, is the PennyLane `expval` measurement of the `PauliZ` observable on every single qubit.\n",
    "\n",
    "The `PauliZ` observable measurement can yield only one of two of the `PauliZ` matrix eigenvalues -- -1 or 1. One could argue that this should be efficient for the purposes of the binary classifier, however, we've got to remember, that the nature of the quantum mechanics is probabilistic. If we use the `PauliZ` measurement results as our prediction results, we won't be able to ensure the classifier will assign the same class to the same input when called multiple times.\n",
    "\n",
    "To eliminate this problem we invoke the `expval` measurement applied on top of the `PauliZ`. We should note at this point that `expval` is not strictly a quantum measurement, but rather a measurement strategy. It only says that we will be interested on the **expectation value** of the observable, rather than the value actually measured during the experiment. One can imagine that the result of the `expval` is the average result of the observable (in our case `PauliZ`) measurement taken over multiple experiments. Given the information from the paragraph above, we can now expect the value of the `expval` measurement to be in range [-1, 1].\n",
    "\n",
    "For more information visit [PauliZ documentation](https://docs.pennylane.ai/en/stable/code/api/pennylane.PauliZ.html?highlight=PauliZ) and [expval measurement documentation](https://docs.pennylane.ai/en/stable/code/api/pennylane.expval.html?highlight=expval)."
   ],
   "metadata": {
    "collapsed": false
   }
  },
  {
   "cell_type": "markdown",
   "source": [
    "We can now proceed with the measurement implementation. This, again, will be quite trivial."
   ],
   "metadata": {
    "collapsed": false
   }
  },
  {
   "cell_type": "code",
   "execution_count": 14,
   "outputs": [],
   "source": [
    "import pennylane as qml"
   ],
   "metadata": {
    "collapsed": false,
    "ExecuteTime": {
     "start_time": "2023-04-21T18:28:49.107590Z",
     "end_time": "2023-04-21T18:28:49.414058Z"
    }
   }
  },
  {
   "cell_type": "code",
   "execution_count": 15,
   "outputs": [],
   "source": [
    "def measurement(wires: Union[int, Sequence[int]]) -> List[qml.measurements.ExpectationMP]:\n",
    "    \"\"\"\n",
    "    Returns the results of the PauliZ measurement on the `wires` of the circuit.\n",
    "\n",
    "    :param wires:\n",
    "        Wires on which the measurement should be applied.\n",
    "    \"\"\"\n",
    "    return [qml.expval(qml.PauliZ(i)) for i in wires]  # Essentially can be treated as a list of floats, but formally is a list of more complex objects."
   ],
   "metadata": {
    "collapsed": false,
    "ExecuteTime": {
     "start_time": "2023-04-21T18:28:49.142645Z",
     "end_time": "2023-04-21T18:28:49.417152Z"
    }
   }
  },
  {
   "cell_type": "markdown",
   "source": [
    "Notice that the measurement returns a value. This will actually be the value returned by our VQC."
   ],
   "metadata": {
    "collapsed": false
   }
  },
  {
   "cell_type": "markdown",
   "source": [
    "### VQC implementation\n",
    "\n",
    "We're now ready to implement our VQC. With the 3 method defined above it's again very easy. However, there's an additional aspect of the PennyLane implementation that we will have to mention before we proceed -- the `qml.qnode` decorator and `qml.device`.\n",
    "\n",
    "We will start with the latter. The `qml.device` specifies the kind of device we want to run our VQC on. Using PennyLane, it's possible to run the circuit on real world quantum computers (e.g. the ones provided by [IBM](https://quantum-computing.ibm.com/)), however, we will restrict ourselves to simulators only. To create a quantum device, we only need to run the following code"
   ],
   "metadata": {
    "collapsed": false
   }
  },
  {
   "cell_type": "code",
   "execution_count": 16,
   "outputs": [],
   "source": [
    "device = qml.device(\"default.qubit\", wires=len(X[0]))"
   ],
   "metadata": {
    "collapsed": false,
    "ExecuteTime": {
     "start_time": "2023-04-21T18:28:49.183099Z",
     "end_time": "2023-04-21T18:28:49.502589Z"
    }
   }
  },
  {
   "cell_type": "markdown",
   "source": [
    "What the code does is creating a `default.qubit` simulator with `len(X[0])` (in our case 2) qubits -- that's because the `AngleEmbedding` that we use require the number of wires equal to the number of features we want to encode. There are also many different simulators that we can use. For more options refer to the [documentation](https://docs.pennylane.ai/en/stable/search.html?q=device&check_keywords=yes&area=default).\n",
    "\n",
    "The `qml.qnode` decorator is a technical thing. For simplicity let's just say it \"tells\" the function that it should be run the VQC on a given device. For detailed information check the [documentation](https://docs.pennylane.ai/en/stable/code/api/pennylane.qnode.html?highlight=qnode). Using the `qml.qnode` we can now define our circuit as such."
   ],
   "metadata": {
    "collapsed": false
   }
  },
  {
   "cell_type": "code",
   "execution_count": 17,
   "outputs": [],
   "source": [
    "@qml.qnode(device=device)\n",
    "def circuit(x: Sequence[float], wires: Union[int, Sequence[int]], weights: Sequence[float]) -> List[qml.measurements.ExpectationMP]:\n",
    "    \"\"\"\n",
    "    The VQC representing the QNN.\n",
    "\n",
    "    :param x:\n",
    "        The features to be encoded (embedded) into VQC.\n",
    "    :param wires:\n",
    "        The wires of the VQC.\n",
    "    :param weights:\n",
    "        Weights to be applied to VQC.\n",
    "    :return:\n",
    "        The results of the measurement on the evolved state.\n",
    "    \"\"\"\n",
    "    if type(wires) is int:\n",
    "        wires = list(range(wires))\n",
    "\n",
    "    state_preparation(x, wires)\n",
    "    evolution(weights, wires)\n",
    "    return measurement(wires)"
   ],
   "metadata": {
    "collapsed": false,
    "ExecuteTime": {
     "start_time": "2023-04-21T18:28:49.440866Z",
     "end_time": "2023-04-21T18:28:49.546683Z"
    }
   }
  },
  {
   "cell_type": "markdown",
   "source": [
    "Now we can define our QNN. For a binary classification we should need the measurement results from all the qubits. One should be enough. Let's arbitrarily select the first qubit as our predictor."
   ],
   "metadata": {
    "collapsed": false
   }
  },
  {
   "cell_type": "code",
   "execution_count": 18,
   "outputs": [],
   "source": [
    "def qnn_expval(x: Sequence[float], wires: Union[int, Sequence[int]], weights: Sequence[float]) -> float:\n",
    "    \"\"\"\n",
    "    Computes the expectation value of the measurement on the first qubit. Should be used during the training.\n",
    "\n",
    "    :param x:\n",
    "        The features to be encoded (embedded) into VQC.\n",
    "    :param wires:\n",
    "        The wires of the VQC.\n",
    "    :param weights:\n",
    "        Weights to be applied to VQC.\n",
    "    :return:\n",
    "        Expectation value of the measurement on the first qubit.\n",
    "    \"\"\"\n",
    "    return circuit(x, wires, weights)[0]\n",
    "\n",
    "def qnn_predict(x: Sequence[float], wires: Union[int, Sequence[int]], weights: Sequence[float]) -> int:\n",
    "    \"\"\"\n",
    "    QNN prediction function. Used for prediction and accuracy evaluation.\n",
    "\n",
    "    :param x:\n",
    "        The features to be encoded (embedded) into VQC.\n",
    "    :param wires:\n",
    "        The wires of the VQC.\n",
    "    :param weights:\n",
    "        Weights to be applied to VQC.\n",
    "    :return:\n",
    "        Prediction of the QNN.\n",
    "    \"\"\"\n",
    "    return 1 if float(circuit(x, wires, weights)[0]) >= 0 else 0"
   ],
   "metadata": {
    "collapsed": false,
    "ExecuteTime": {
     "start_time": "2023-04-21T18:28:49.464482Z",
     "end_time": "2023-04-21T18:28:49.554578Z"
    }
   }
  },
  {
   "cell_type": "markdown",
   "source": [
    "## Training the QNN\n",
    "\n",
    "Assuming that the reader has done all the steps in the previous section of the tutorial, we will now show how to find the (sub)optimal weights of the VQC. Similarly to classical ML, we will need a few things to do so."
   ],
   "metadata": {
    "collapsed": false
   }
  },
  {
   "cell_type": "markdown",
   "source": [
    "### Cost function\n",
    "\n",
    "The training requires the cost function. Like in the [PennyLane tutorial](https://pennylane.ai/qml/demos/tutorial_variational_classifier.html), we will use the standard square loss function."
   ],
   "metadata": {
    "collapsed": false
   }
  },
  {
   "cell_type": "code",
   "execution_count": 19,
   "outputs": [],
   "source": [
    "# Extended version of the square_loss method from the tutorial.\n",
    "def square_loss(labels: Sequence[int], expvals: List[float]) -> float:\n",
    "    \"\"\"\n",
    "    A type-hint-extended version of the square_loss function from the tutorial.\n",
    "\n",
    "    :param labels:\n",
    "        True labels of the tested points.\n",
    "    :param expvals:\n",
    "        Predictions made by the QNN. Should correspond to the labels.\n",
    "    :return:\n",
    "        The value of the square loss function of the QNN.\n",
    "    \"\"\"\n",
    "    loss: float = 0\n",
    "    for l, p in zip(labels, expvals):\n",
    "        loss = loss + (l - p) ** 2\n",
    "\n",
    "    loss = loss / len(labels)\n",
    "    return loss"
   ],
   "metadata": {
    "collapsed": false,
    "ExecuteTime": {
     "start_time": "2023-04-21T18:28:49.487319Z",
     "end_time": "2023-04-21T18:28:49.564952Z"
    }
   }
  },
  {
   "cell_type": "markdown",
   "source": [
    "Notice how we hint that the `expvals` should be used during the training. That's because this way the cost function will be more accurate.\n",
    "\n",
    "And now we can define the cost function in the similar manner as in the tutorial."
   ],
   "metadata": {
    "collapsed": false
   }
  },
  {
   "cell_type": "code",
   "execution_count": 20,
   "outputs": [],
   "source": [
    "# Modified version of the cost function from the tutorial.\n",
    "def cost(features: np.ndarray, wires: Union[int, Sequence[int]], weights: Sequence[float], labels: Sequence[int]) -> float:\n",
    "    \"\"\"\n",
    "    Computes the QNN cost function value.\n",
    "\n",
    "    :param features:\n",
    "        Tested data points.\n",
    "    :param wires:\n",
    "        The wires of the VQC.\n",
    "    :param weights:\n",
    "        Weights to be applied to VQC.\n",
    "    :param labels:\n",
    "        True labels of the tested points.\n",
    "\n",
    "    :return:\n",
    "        The value of the cost function.\n",
    "    \"\"\"\n",
    "    exp_vals: List[float] = [qnn_expval(x, wires, weights) for x in features]\n",
    "    return square_loss(labels, exp_vals)"
   ],
   "metadata": {
    "collapsed": false,
    "ExecuteTime": {
     "start_time": "2023-04-21T18:28:49.524721Z",
     "end_time": "2023-04-21T18:28:49.635678Z"
    }
   }
  },
  {
   "cell_type": "markdown",
   "source": [
    "### Accuracy\n",
    "\n",
    "Agreeing with the argument made in [the tutorial](https://pennylane.ai/qml/demos/tutorial_variational_classifier.html), we will also use the proposed `accuracy` function, which informs how much of the objects the classifier gets right."
   ],
   "metadata": {
    "collapsed": false
   }
  },
  {
   "cell_type": "code",
   "execution_count": 21,
   "outputs": [],
   "source": [
    "# Extended version of the accuracy method from the tutorial.\n",
    "def accuracy(labels: Sequence[int], predictions: List[int]) -> float:\n",
    "    \"\"\"\n",
    "    Extended version of the `accuracy` method from the tutorial. It evaluates the accuracy of the QNN.\n",
    "\n",
    "    :param labels:\n",
    "        True labels of the tested points.\n",
    "    :param predictions:\n",
    "        Predictions made by the QNN. Should correspond to the labels.\n",
    "\n",
    "    :return:\n",
    "        The percent of correctly predicted classes.\n",
    "    \"\"\"\n",
    "    n_correct: int = 0\n",
    "    for l, p in zip(labels, predictions):\n",
    "        if l == p:\n",
    "            n_correct = n_correct + 1\n",
    "\n",
    "    return n_correct / len(labels)"
   ],
   "metadata": {
    "collapsed": false,
    "ExecuteTime": {
     "start_time": "2023-04-21T18:28:49.567271Z",
     "end_time": "2023-04-21T18:28:49.680600Z"
    }
   }
  },
  {
   "cell_type": "markdown",
   "source": [
    "### Optimizer\n",
    "\n",
    "There are several approaches to the (Q)NN training. Among the most popular are the methods using some variation of **gradient descent** algorithm. Our case will be no different. We will use the `NesterovMomentumOptimizer`, which by now should be known to the reader."
   ],
   "metadata": {
    "collapsed": false
   }
  },
  {
   "cell_type": "code",
   "execution_count": 22,
   "outputs": [],
   "source": [
    "# We will use default parameters, but call them explicitly.\n",
    "step_size: float = 0.01\n",
    "momentum: float = 0.9\n",
    "\n",
    "optimizer: qml.NesterovMomentumOptimizer = qml.NesterovMomentumOptimizer(\n",
    "    stepsize=step_size,\n",
    "    momentum = momentum\n",
    ")"
   ],
   "metadata": {
    "collapsed": false,
    "ExecuteTime": {
     "start_time": "2023-04-21T18:28:49.611556Z",
     "end_time": "2023-04-21T18:28:49.684824Z"
    }
   }
  },
  {
   "cell_type": "markdown",
   "source": [
    "More information about the `NesterovMomentumOptimizer` can be found [here](https://docs.pennylane.ai/en/stable/code/api/pennylane.NesterovMomentumOptimizer.html?highlight=NesterovMomentumOptimizer#pennylane.NesterovMomentumOptimizer). Additional optimizers can be found in the [documentation](https://docs.pennylane.ai/en/stable/search.html?q=optimizer&check_keywords=yes&area=default).\n",
    "\n",
    "All the components required for the weights optimization are now available to us. We can begin the training."
   ],
   "metadata": {
    "collapsed": false
   }
  },
  {
   "cell_type": "markdown",
   "source": [
    "### Training\n",
    "\n",
    "Let's start with defining a few constants and initializing the weights."
   ],
   "metadata": {
    "collapsed": false
   }
  },
  {
   "cell_type": "code",
   "execution_count": 23,
   "outputs": [],
   "source": [
    "n_layers: int = 3\n",
    "n_qubits: int = len(X[0])\n",
    "seed: int = 42\n",
    "\n",
    "n_batches: int = 5\n",
    "\n",
    "n_iterations: int = 50\n",
    "\n",
    "rng: np.random.default_rng = np.random.default_rng(seed)\n",
    "\n",
    "qnn_weights: np.ndarray = np.array(\n",
    "    [rng.random() * np.pi * 2  - np.pi for _ in range(n_qubits * n_layers * 3)],  # Remember StronglyEntanglingLayers weights number! We also rescale the weights to range [-np.pi, np.pi].\n",
    "    dtype=float,\n",
    "    requires_grad=True  # Required for optimization.\n",
    ")\n",
    "qnn_weights = qnn_weights.reshape((n_layers, n_qubits, 3))"
   ],
   "metadata": {
    "collapsed": false,
    "ExecuteTime": {
     "start_time": "2023-04-21T18:28:49.621116Z",
     "end_time": "2023-04-21T18:28:49.791758Z"
    }
   }
  },
  {
   "cell_type": "markdown",
   "source": [
    "Following the proper ML practices, we will also split the training and test sets. To this aim, we invoke the `sklearn` library."
   ],
   "metadata": {
    "collapsed": false
   }
  },
  {
   "cell_type": "code",
   "execution_count": 24,
   "outputs": [],
   "source": [
    "from sklearn.model_selection import train_test_split"
   ],
   "metadata": {
    "collapsed": false,
    "ExecuteTime": {
     "start_time": "2023-04-21T18:28:49.663173Z",
     "end_time": "2023-04-21T18:28:49.794975Z"
    }
   }
  },
  {
   "cell_type": "markdown",
   "source": [
    "With the above method, the splitting is trivial."
   ],
   "metadata": {
    "collapsed": false
   }
  },
  {
   "cell_type": "markdown",
   "source": [],
   "metadata": {
    "collapsed": false
   }
  },
  {
   "cell_type": "code",
   "execution_count": 25,
   "outputs": [],
   "source": [
    "test_size: float = 0.2  # A part of the data set that will be used to measure accuracy of the predictor.\n",
    "\n",
    "X_train: np.ndarray\n",
    "X_test: np.ndarray\n",
    "y_train: np.ndarray\n",
    "y_test: np.ndarray\n",
    "\n",
    "X_train, X_test, y_train, y_test = train_test_split(\n",
    "    X, y, test_size=test_size, random_state=seed\n",
    ")"
   ],
   "metadata": {
    "collapsed": false,
    "ExecuteTime": {
     "start_time": "2023-04-21T18:28:49.716603Z",
     "end_time": "2023-04-21T18:28:49.795314Z"
    }
   }
  },
  {
   "cell_type": "markdown",
   "source": [
    "More information about the `train_test_split` method can be found in the [scikit-learn documentation](https://scikit-learn.org/stable/modules/generated/sklearn.model_selection.train_test_split.html).\n",
    "\n",
    "We will also want to prepare the batches of data, again using `sklearn`."
   ],
   "metadata": {
    "collapsed": false
   }
  },
  {
   "cell_type": "code",
   "execution_count": 26,
   "outputs": [],
   "source": [
    "from sklearn.utils import gen_batches"
   ],
   "metadata": {
    "collapsed": false,
    "ExecuteTime": {
     "start_time": "2023-04-21T18:28:49.724060Z",
     "end_time": "2023-04-21T18:28:49.810627Z"
    }
   }
  },
  {
   "cell_type": "markdown",
   "source": [
    "The `gen_batches` function, as the name suggest, generates the batches of the desired size. It only needs the total number of objects to batch and the size of the batch."
   ],
   "metadata": {
    "collapsed": false
   }
  },
  {
   "cell_type": "code",
   "execution_count": 27,
   "outputs": [],
   "source": [
    "batch_size: int = len(X_train) // n_batches\n",
    "batches: List[slice] = list(gen_batches(n=len(X_train), batch_size=batch_size))"
   ],
   "metadata": {
    "collapsed": false,
    "ExecuteTime": {
     "start_time": "2023-04-21T18:28:49.750031Z",
     "end_time": "2023-04-21T18:28:49.842850Z"
    }
   }
  },
  {
   "cell_type": "markdown",
   "source": [
    "For more information about the `gen_batches` function, check the `scikit-learn` [documentation](https://scikit-learn.org/stable/modules/generated/sklearn.utils.gen_batches.html).\n",
    "\n",
    "Now we can begin the training. The loop will be similar to the one in [the tutorial](https://pennylane.ai/qml/demos/tutorial_variational_classifier.html), although there will be some meaningful changes."
   ],
   "metadata": {
    "collapsed": false
   }
  },
  {
   "cell_type": "code",
   "execution_count": 28,
   "outputs": [
    {
     "name": "stdout",
     "output_type": "stream",
     "text": [
      "Iter:     1 | Cost: 0.8186068 | Accuracy: 0.1000000 \n",
      "Iter:     2 | Cost: 0.8040894 | Accuracy: 0.1000000 \n",
      "Iter:     3 | Cost: 0.7856695 | Accuracy: 0.1000000 \n",
      "Iter:     4 | Cost: 0.7622886 | Accuracy: 0.1000000 \n",
      "Iter:     5 | Cost: 0.7382262 | Accuracy: 0.1000000 \n",
      "Iter:     6 | Cost: 0.7100939 | Accuracy: 0.1000000 \n",
      "Iter:     7 | Cost: 0.6788512 | Accuracy: 0.1500000 \n",
      "Iter:     8 | Cost: 0.6472507 | Accuracy: 0.2000000 \n",
      "Iter:     9 | Cost: 0.6175231 | Accuracy: 0.2500000 \n",
      "Iter:    10 | Cost: 0.5874754 | Accuracy: 0.3000000 \n",
      "Iter:    11 | Cost: 0.5584640 | Accuracy: 0.3000000 \n",
      "Iter:    12 | Cost: 0.5308555 | Accuracy: 0.3000000 \n",
      "Iter:    13 | Cost: 0.5046732 | Accuracy: 0.4000000 \n",
      "Iter:    14 | Cost: 0.4807460 | Accuracy: 0.4500000 \n",
      "Iter:    15 | Cost: 0.4596702 | Accuracy: 0.4500000 \n",
      "Iter:    16 | Cost: 0.4421202 | Accuracy: 0.5000000 \n",
      "Iter:    17 | Cost: 0.4269348 | Accuracy: 0.5000000 \n",
      "Iter:    18 | Cost: 0.4138235 | Accuracy: 0.5000000 \n",
      "Iter:    19 | Cost: 0.4023571 | Accuracy: 0.5500000 \n",
      "Iter:    20 | Cost: 0.3918243 | Accuracy: 0.5500000 \n",
      "Iter:    21 | Cost: 0.3822434 | Accuracy: 0.5500000 \n",
      "Iter:    22 | Cost: 0.3730255 | Accuracy: 0.5500000 \n",
      "Iter:    23 | Cost: 0.3649934 | Accuracy: 0.5500000 \n",
      "Iter:    24 | Cost: 0.3581004 | Accuracy: 0.5500000 \n",
      "Iter:    25 | Cost: 0.3519132 | Accuracy: 0.5500000 \n",
      "Iter:    26 | Cost: 0.3467205 | Accuracy: 0.5500000 \n",
      "Iter:    27 | Cost: 0.3416367 | Accuracy: 0.5500000 \n",
      "Iter:    28 | Cost: 0.3371015 | Accuracy: 0.5500000 \n",
      "Iter:    29 | Cost: 0.3328397 | Accuracy: 0.6000000 \n",
      "Iter:    30 | Cost: 0.3286548 | Accuracy: 0.6500000 \n",
      "Iter:    31 | Cost: 0.3249913 | Accuracy: 0.6500000 \n",
      "Iter:    32 | Cost: 0.3214473 | Accuracy: 0.7000000 \n",
      "Iter:    33 | Cost: 0.3179202 | Accuracy: 0.7500000 \n",
      "Iter:    34 | Cost: 0.3147915 | Accuracy: 0.7500000 \n",
      "Iter:    35 | Cost: 0.3124342 | Accuracy: 0.8500000 \n",
      "Iter:    36 | Cost: 0.3101185 | Accuracy: 0.8500000 \n",
      "Iter:    37 | Cost: 0.3080911 | Accuracy: 0.8500000 \n",
      "Iter:    38 | Cost: 0.3061680 | Accuracy: 0.8500000 \n",
      "Iter:    39 | Cost: 0.3048107 | Accuracy: 0.8000000 \n",
      "Iter:    40 | Cost: 0.3036002 | Accuracy: 0.8000000 \n",
      "Iter:    41 | Cost: 0.3025470 | Accuracy: 0.8500000 \n",
      "Iter:    42 | Cost: 0.3016706 | Accuracy: 0.9000000 \n",
      "Iter:    43 | Cost: 0.3008841 | Accuracy: 0.9000000 \n",
      "Iter:    44 | Cost: 0.3003777 | Accuracy: 0.9000000 \n",
      "Iter:    45 | Cost: 0.2998572 | Accuracy: 0.8500000 \n",
      "Iter:    46 | Cost: 0.2992774 | Accuracy: 0.8500000 \n",
      "Iter:    47 | Cost: 0.2986611 | Accuracy: 0.8500000 \n",
      "Iter:    48 | Cost: 0.2980011 | Accuracy: 0.8500000 \n",
      "Iter:    49 | Cost: 0.2974876 | Accuracy: 0.8500000 \n",
      "Iter:    50 | Cost: 0.2970920 | Accuracy: 0.8500000 \n"
     ]
    }
   ],
   "source": [
    "# Modified version of the training loop from the tutorial.\n",
    "for it in range(n_iterations):\n",
    "\n",
    "    # Update the weights by one optimizer step.\n",
    "    batch_index = rng.integers(0, n_batches)\n",
    "\n",
    "    X_batch = X_train[batches[batch_index]]\n",
    "    Y_batch = y_train[batches[batch_index]]\n",
    "\n",
    "    _, _, qnn_weights, _ = optimizer.step(  # The order is vital!\n",
    "        cost,\n",
    "        X_batch,\n",
    "        n_qubits,\n",
    "        qnn_weights,\n",
    "        Y_batch\n",
    "    )\n",
    "\n",
    "    # Compute accuracy.\n",
    "    test_predictions: List[int] = [qnn_predict(x, n_qubits, qnn_weights) for x in X_test]\n",
    "    acc: float = accuracy(y_test, test_predictions)\n",
    "\n",
    "    print(\n",
    "        \"Iter: {:5d} | Cost: {:0.7f} | Accuracy: {:0.7f} \".format(\n",
    "            it + 1, cost(weights=qnn_weights, wires=n_qubits, features=X_train, labels=y_train), acc\n",
    "        )\n",
    "    )"
   ],
   "metadata": {
    "collapsed": false,
    "ExecuteTime": {
     "start_time": "2023-04-21T18:28:49.791010Z",
     "end_time": "2023-04-21T18:29:56.557032Z"
    }
   }
  }
 ],
 "metadata": {
  "kernelspec": {
   "display_name": "Python 3",
   "language": "python",
   "name": "python3"
  },
  "language_info": {
   "codemirror_mode": {
    "name": "ipython",
    "version": 2
   },
   "file_extension": ".py",
   "mimetype": "text/x-python",
   "name": "python",
   "nbconvert_exporter": "python",
   "pygments_lexer": "ipython2",
   "version": "2.7.6"
  }
 },
 "nbformat": 4,
 "nbformat_minor": 0
}
